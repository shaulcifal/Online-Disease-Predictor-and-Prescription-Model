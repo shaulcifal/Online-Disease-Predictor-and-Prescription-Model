{
  "nbformat": 4,
  "nbformat_minor": 0,
  "metadata": {
    "colab": {
      "name": "Diabetes.ipynb",
      "provenance": []
    },
    "kernelspec": {
      "name": "python3",
      "display_name": "Python 3"
    }
  },
  "cells": [
    {
      "cell_type": "code",
      "metadata": {
        "id": "UdZQdlwrJ_dq"
      },
      "source": [
        "import numpy as np # linear algebra\n",
        "import pandas as pd # data processing, CSV file I/O (e.g. pd.read_csv)\n",
        "import seaborn as sns\n",
        "import matplotlib.pyplot as plt"
      ],
      "execution_count": 8,
      "outputs": []
    },
    {
      "cell_type": "code",
      "metadata": {
        "colab": {
          "base_uri": "https://localhost:8080/",
          "height": 639
        },
        "id": "pvx-LwrFKIBG",
        "outputId": "d9068dc1-a578-43cb-fb5e-06cbba52aa00"
      },
      "source": [
        "df = pd.read_csv(\"diabetes.csv\")\n",
        "df.head(20)"
      ],
      "execution_count": 4,
      "outputs": [
        {
          "output_type": "execute_result",
          "data": {
            "text/html": [
              "<div>\n",
              "<style scoped>\n",
              "    .dataframe tbody tr th:only-of-type {\n",
              "        vertical-align: middle;\n",
              "    }\n",
              "\n",
              "    .dataframe tbody tr th {\n",
              "        vertical-align: top;\n",
              "    }\n",
              "\n",
              "    .dataframe thead th {\n",
              "        text-align: right;\n",
              "    }\n",
              "</style>\n",
              "<table border=\"1\" class=\"dataframe\">\n",
              "  <thead>\n",
              "    <tr style=\"text-align: right;\">\n",
              "      <th></th>\n",
              "      <th>Pregnancies</th>\n",
              "      <th>Glucose</th>\n",
              "      <th>BloodPressure</th>\n",
              "      <th>SkinThickness</th>\n",
              "      <th>Insulin</th>\n",
              "      <th>BMI</th>\n",
              "      <th>DiabetesPedigreeFunction</th>\n",
              "      <th>Age</th>\n",
              "      <th>Outcome</th>\n",
              "    </tr>\n",
              "  </thead>\n",
              "  <tbody>\n",
              "    <tr>\n",
              "      <th>0</th>\n",
              "      <td>6</td>\n",
              "      <td>148</td>\n",
              "      <td>72</td>\n",
              "      <td>35</td>\n",
              "      <td>0</td>\n",
              "      <td>33.6</td>\n",
              "      <td>0.627</td>\n",
              "      <td>50</td>\n",
              "      <td>1</td>\n",
              "    </tr>\n",
              "    <tr>\n",
              "      <th>1</th>\n",
              "      <td>1</td>\n",
              "      <td>85</td>\n",
              "      <td>66</td>\n",
              "      <td>29</td>\n",
              "      <td>0</td>\n",
              "      <td>26.6</td>\n",
              "      <td>0.351</td>\n",
              "      <td>31</td>\n",
              "      <td>0</td>\n",
              "    </tr>\n",
              "    <tr>\n",
              "      <th>2</th>\n",
              "      <td>8</td>\n",
              "      <td>183</td>\n",
              "      <td>64</td>\n",
              "      <td>0</td>\n",
              "      <td>0</td>\n",
              "      <td>23.3</td>\n",
              "      <td>0.672</td>\n",
              "      <td>32</td>\n",
              "      <td>1</td>\n",
              "    </tr>\n",
              "    <tr>\n",
              "      <th>3</th>\n",
              "      <td>1</td>\n",
              "      <td>89</td>\n",
              "      <td>66</td>\n",
              "      <td>23</td>\n",
              "      <td>94</td>\n",
              "      <td>28.1</td>\n",
              "      <td>0.167</td>\n",
              "      <td>21</td>\n",
              "      <td>0</td>\n",
              "    </tr>\n",
              "    <tr>\n",
              "      <th>4</th>\n",
              "      <td>0</td>\n",
              "      <td>137</td>\n",
              "      <td>40</td>\n",
              "      <td>35</td>\n",
              "      <td>168</td>\n",
              "      <td>43.1</td>\n",
              "      <td>2.288</td>\n",
              "      <td>33</td>\n",
              "      <td>1</td>\n",
              "    </tr>\n",
              "    <tr>\n",
              "      <th>5</th>\n",
              "      <td>5</td>\n",
              "      <td>116</td>\n",
              "      <td>74</td>\n",
              "      <td>0</td>\n",
              "      <td>0</td>\n",
              "      <td>25.6</td>\n",
              "      <td>0.201</td>\n",
              "      <td>30</td>\n",
              "      <td>0</td>\n",
              "    </tr>\n",
              "    <tr>\n",
              "      <th>6</th>\n",
              "      <td>3</td>\n",
              "      <td>78</td>\n",
              "      <td>50</td>\n",
              "      <td>32</td>\n",
              "      <td>88</td>\n",
              "      <td>31.0</td>\n",
              "      <td>0.248</td>\n",
              "      <td>26</td>\n",
              "      <td>1</td>\n",
              "    </tr>\n",
              "    <tr>\n",
              "      <th>7</th>\n",
              "      <td>10</td>\n",
              "      <td>115</td>\n",
              "      <td>0</td>\n",
              "      <td>0</td>\n",
              "      <td>0</td>\n",
              "      <td>35.3</td>\n",
              "      <td>0.134</td>\n",
              "      <td>29</td>\n",
              "      <td>0</td>\n",
              "    </tr>\n",
              "    <tr>\n",
              "      <th>8</th>\n",
              "      <td>2</td>\n",
              "      <td>197</td>\n",
              "      <td>70</td>\n",
              "      <td>45</td>\n",
              "      <td>543</td>\n",
              "      <td>30.5</td>\n",
              "      <td>0.158</td>\n",
              "      <td>53</td>\n",
              "      <td>1</td>\n",
              "    </tr>\n",
              "    <tr>\n",
              "      <th>9</th>\n",
              "      <td>8</td>\n",
              "      <td>125</td>\n",
              "      <td>96</td>\n",
              "      <td>0</td>\n",
              "      <td>0</td>\n",
              "      <td>0.0</td>\n",
              "      <td>0.232</td>\n",
              "      <td>54</td>\n",
              "      <td>1</td>\n",
              "    </tr>\n",
              "    <tr>\n",
              "      <th>10</th>\n",
              "      <td>4</td>\n",
              "      <td>110</td>\n",
              "      <td>92</td>\n",
              "      <td>0</td>\n",
              "      <td>0</td>\n",
              "      <td>37.6</td>\n",
              "      <td>0.191</td>\n",
              "      <td>30</td>\n",
              "      <td>0</td>\n",
              "    </tr>\n",
              "    <tr>\n",
              "      <th>11</th>\n",
              "      <td>10</td>\n",
              "      <td>168</td>\n",
              "      <td>74</td>\n",
              "      <td>0</td>\n",
              "      <td>0</td>\n",
              "      <td>38.0</td>\n",
              "      <td>0.537</td>\n",
              "      <td>34</td>\n",
              "      <td>1</td>\n",
              "    </tr>\n",
              "    <tr>\n",
              "      <th>12</th>\n",
              "      <td>10</td>\n",
              "      <td>139</td>\n",
              "      <td>80</td>\n",
              "      <td>0</td>\n",
              "      <td>0</td>\n",
              "      <td>27.1</td>\n",
              "      <td>1.441</td>\n",
              "      <td>57</td>\n",
              "      <td>0</td>\n",
              "    </tr>\n",
              "    <tr>\n",
              "      <th>13</th>\n",
              "      <td>1</td>\n",
              "      <td>189</td>\n",
              "      <td>60</td>\n",
              "      <td>23</td>\n",
              "      <td>846</td>\n",
              "      <td>30.1</td>\n",
              "      <td>0.398</td>\n",
              "      <td>59</td>\n",
              "      <td>1</td>\n",
              "    </tr>\n",
              "    <tr>\n",
              "      <th>14</th>\n",
              "      <td>5</td>\n",
              "      <td>166</td>\n",
              "      <td>72</td>\n",
              "      <td>19</td>\n",
              "      <td>175</td>\n",
              "      <td>25.8</td>\n",
              "      <td>0.587</td>\n",
              "      <td>51</td>\n",
              "      <td>1</td>\n",
              "    </tr>\n",
              "    <tr>\n",
              "      <th>15</th>\n",
              "      <td>7</td>\n",
              "      <td>100</td>\n",
              "      <td>0</td>\n",
              "      <td>0</td>\n",
              "      <td>0</td>\n",
              "      <td>30.0</td>\n",
              "      <td>0.484</td>\n",
              "      <td>32</td>\n",
              "      <td>1</td>\n",
              "    </tr>\n",
              "    <tr>\n",
              "      <th>16</th>\n",
              "      <td>0</td>\n",
              "      <td>118</td>\n",
              "      <td>84</td>\n",
              "      <td>47</td>\n",
              "      <td>230</td>\n",
              "      <td>45.8</td>\n",
              "      <td>0.551</td>\n",
              "      <td>31</td>\n",
              "      <td>1</td>\n",
              "    </tr>\n",
              "    <tr>\n",
              "      <th>17</th>\n",
              "      <td>7</td>\n",
              "      <td>107</td>\n",
              "      <td>74</td>\n",
              "      <td>0</td>\n",
              "      <td>0</td>\n",
              "      <td>29.6</td>\n",
              "      <td>0.254</td>\n",
              "      <td>31</td>\n",
              "      <td>1</td>\n",
              "    </tr>\n",
              "    <tr>\n",
              "      <th>18</th>\n",
              "      <td>1</td>\n",
              "      <td>103</td>\n",
              "      <td>30</td>\n",
              "      <td>38</td>\n",
              "      <td>83</td>\n",
              "      <td>43.3</td>\n",
              "      <td>0.183</td>\n",
              "      <td>33</td>\n",
              "      <td>0</td>\n",
              "    </tr>\n",
              "    <tr>\n",
              "      <th>19</th>\n",
              "      <td>1</td>\n",
              "      <td>115</td>\n",
              "      <td>70</td>\n",
              "      <td>30</td>\n",
              "      <td>96</td>\n",
              "      <td>34.6</td>\n",
              "      <td>0.529</td>\n",
              "      <td>32</td>\n",
              "      <td>1</td>\n",
              "    </tr>\n",
              "  </tbody>\n",
              "</table>\n",
              "</div>"
            ],
            "text/plain": [
              "    Pregnancies  Glucose  BloodPressure  ...  DiabetesPedigreeFunction  Age  Outcome\n",
              "0             6      148             72  ...                     0.627   50        1\n",
              "1             1       85             66  ...                     0.351   31        0\n",
              "2             8      183             64  ...                     0.672   32        1\n",
              "3             1       89             66  ...                     0.167   21        0\n",
              "4             0      137             40  ...                     2.288   33        1\n",
              "5             5      116             74  ...                     0.201   30        0\n",
              "6             3       78             50  ...                     0.248   26        1\n",
              "7            10      115              0  ...                     0.134   29        0\n",
              "8             2      197             70  ...                     0.158   53        1\n",
              "9             8      125             96  ...                     0.232   54        1\n",
              "10            4      110             92  ...                     0.191   30        0\n",
              "11           10      168             74  ...                     0.537   34        1\n",
              "12           10      139             80  ...                     1.441   57        0\n",
              "13            1      189             60  ...                     0.398   59        1\n",
              "14            5      166             72  ...                     0.587   51        1\n",
              "15            7      100              0  ...                     0.484   32        1\n",
              "16            0      118             84  ...                     0.551   31        1\n",
              "17            7      107             74  ...                     0.254   31        1\n",
              "18            1      103             30  ...                     0.183   33        0\n",
              "19            1      115             70  ...                     0.529   32        1\n",
              "\n",
              "[20 rows x 9 columns]"
            ]
          },
          "metadata": {
            "tags": []
          },
          "execution_count": 4
        }
      ]
    },
    {
      "cell_type": "code",
      "metadata": {
        "colab": {
          "base_uri": "https://localhost:8080/"
        },
        "id": "XzxJWsKRKW7l",
        "outputId": "26b1cc06-6262-4a6d-b7fc-647675d9bed5"
      },
      "source": [
        "df.shape"
      ],
      "execution_count": 5,
      "outputs": [
        {
          "output_type": "execute_result",
          "data": {
            "text/plain": [
              "(768, 9)"
            ]
          },
          "metadata": {
            "tags": []
          },
          "execution_count": 5
        }
      ]
    },
    {
      "cell_type": "code",
      "metadata": {
        "colab": {
          "base_uri": "https://localhost:8080/",
          "height": 284
        },
        "id": "bIm8VWEjKacE",
        "outputId": "fce49f8a-21df-419f-8f4d-927d82935740"
      },
      "source": [
        "df.describe()"
      ],
      "execution_count": 6,
      "outputs": [
        {
          "output_type": "execute_result",
          "data": {
            "text/html": [
              "<div>\n",
              "<style scoped>\n",
              "    .dataframe tbody tr th:only-of-type {\n",
              "        vertical-align: middle;\n",
              "    }\n",
              "\n",
              "    .dataframe tbody tr th {\n",
              "        vertical-align: top;\n",
              "    }\n",
              "\n",
              "    .dataframe thead th {\n",
              "        text-align: right;\n",
              "    }\n",
              "</style>\n",
              "<table border=\"1\" class=\"dataframe\">\n",
              "  <thead>\n",
              "    <tr style=\"text-align: right;\">\n",
              "      <th></th>\n",
              "      <th>Pregnancies</th>\n",
              "      <th>Glucose</th>\n",
              "      <th>BloodPressure</th>\n",
              "      <th>SkinThickness</th>\n",
              "      <th>Insulin</th>\n",
              "      <th>BMI</th>\n",
              "      <th>DiabetesPedigreeFunction</th>\n",
              "      <th>Age</th>\n",
              "      <th>Outcome</th>\n",
              "    </tr>\n",
              "  </thead>\n",
              "  <tbody>\n",
              "    <tr>\n",
              "      <th>count</th>\n",
              "      <td>768.000000</td>\n",
              "      <td>768.000000</td>\n",
              "      <td>768.000000</td>\n",
              "      <td>768.000000</td>\n",
              "      <td>768.000000</td>\n",
              "      <td>768.000000</td>\n",
              "      <td>768.000000</td>\n",
              "      <td>768.000000</td>\n",
              "      <td>768.000000</td>\n",
              "    </tr>\n",
              "    <tr>\n",
              "      <th>mean</th>\n",
              "      <td>3.845052</td>\n",
              "      <td>120.894531</td>\n",
              "      <td>69.105469</td>\n",
              "      <td>20.536458</td>\n",
              "      <td>79.799479</td>\n",
              "      <td>31.992578</td>\n",
              "      <td>0.471876</td>\n",
              "      <td>33.240885</td>\n",
              "      <td>0.348958</td>\n",
              "    </tr>\n",
              "    <tr>\n",
              "      <th>std</th>\n",
              "      <td>3.369578</td>\n",
              "      <td>31.972618</td>\n",
              "      <td>19.355807</td>\n",
              "      <td>15.952218</td>\n",
              "      <td>115.244002</td>\n",
              "      <td>7.884160</td>\n",
              "      <td>0.331329</td>\n",
              "      <td>11.760232</td>\n",
              "      <td>0.476951</td>\n",
              "    </tr>\n",
              "    <tr>\n",
              "      <th>min</th>\n",
              "      <td>0.000000</td>\n",
              "      <td>0.000000</td>\n",
              "      <td>0.000000</td>\n",
              "      <td>0.000000</td>\n",
              "      <td>0.000000</td>\n",
              "      <td>0.000000</td>\n",
              "      <td>0.078000</td>\n",
              "      <td>21.000000</td>\n",
              "      <td>0.000000</td>\n",
              "    </tr>\n",
              "    <tr>\n",
              "      <th>25%</th>\n",
              "      <td>1.000000</td>\n",
              "      <td>99.000000</td>\n",
              "      <td>62.000000</td>\n",
              "      <td>0.000000</td>\n",
              "      <td>0.000000</td>\n",
              "      <td>27.300000</td>\n",
              "      <td>0.243750</td>\n",
              "      <td>24.000000</td>\n",
              "      <td>0.000000</td>\n",
              "    </tr>\n",
              "    <tr>\n",
              "      <th>50%</th>\n",
              "      <td>3.000000</td>\n",
              "      <td>117.000000</td>\n",
              "      <td>72.000000</td>\n",
              "      <td>23.000000</td>\n",
              "      <td>30.500000</td>\n",
              "      <td>32.000000</td>\n",
              "      <td>0.372500</td>\n",
              "      <td>29.000000</td>\n",
              "      <td>0.000000</td>\n",
              "    </tr>\n",
              "    <tr>\n",
              "      <th>75%</th>\n",
              "      <td>6.000000</td>\n",
              "      <td>140.250000</td>\n",
              "      <td>80.000000</td>\n",
              "      <td>32.000000</td>\n",
              "      <td>127.250000</td>\n",
              "      <td>36.600000</td>\n",
              "      <td>0.626250</td>\n",
              "      <td>41.000000</td>\n",
              "      <td>1.000000</td>\n",
              "    </tr>\n",
              "    <tr>\n",
              "      <th>max</th>\n",
              "      <td>17.000000</td>\n",
              "      <td>199.000000</td>\n",
              "      <td>122.000000</td>\n",
              "      <td>99.000000</td>\n",
              "      <td>846.000000</td>\n",
              "      <td>67.100000</td>\n",
              "      <td>2.420000</td>\n",
              "      <td>81.000000</td>\n",
              "      <td>1.000000</td>\n",
              "    </tr>\n",
              "  </tbody>\n",
              "</table>\n",
              "</div>"
            ],
            "text/plain": [
              "       Pregnancies     Glucose  ...         Age     Outcome\n",
              "count   768.000000  768.000000  ...  768.000000  768.000000\n",
              "mean      3.845052  120.894531  ...   33.240885    0.348958\n",
              "std       3.369578   31.972618  ...   11.760232    0.476951\n",
              "min       0.000000    0.000000  ...   21.000000    0.000000\n",
              "25%       1.000000   99.000000  ...   24.000000    0.000000\n",
              "50%       3.000000  117.000000  ...   29.000000    0.000000\n",
              "75%       6.000000  140.250000  ...   41.000000    1.000000\n",
              "max      17.000000  199.000000  ...   81.000000    1.000000\n",
              "\n",
              "[8 rows x 9 columns]"
            ]
          },
          "metadata": {
            "tags": []
          },
          "execution_count": 6
        }
      ]
    },
    {
      "cell_type": "code",
      "metadata": {
        "colab": {
          "base_uri": "https://localhost:8080/",
          "height": 296
        },
        "id": "fa20gcb3NM5P",
        "outputId": "543042dc-21ed-454d-999d-86b377627849"
      },
      "source": [
        "sns.countplot(x=\"Outcome\", data=df)\n",
        "plt.plot()"
      ],
      "execution_count": 9,
      "outputs": [
        {
          "output_type": "execute_result",
          "data": {
            "text/plain": [
              "[]"
            ]
          },
          "metadata": {
            "tags": []
          },
          "execution_count": 9
        },
        {
          "output_type": "display_data",
          "data": {
            "image/png": "[encoded data removed]",
            "text/plain": [
              "<Figure size 432x288 with 1 Axes>"
            ]
          },
          "metadata": {
            "tags": [],
            "needs_background": "light"
          }
        }
      ]
    },
    {
      "cell_type": "code",
      "metadata": {
        "id": "FApYPNjtKdjt"
      },
      "source": [
        "# First split train/test \n",
        "from sklearn.model_selection import train_test_split\n",
        "X = df.drop(['Outcome'],axis=1)\n",
        "y = df['Outcome']\n",
        "X_train, X_test, y_train, y_test = train_test_split(X,y,test_size=0.3)"
      ],
      "execution_count": 11,
      "outputs": []
    },
    {
      "cell_type": "code",
      "metadata": {
        "colab": {
          "base_uri": "https://localhost:8080/",
          "height": 402
        },
        "id": "2Qbw4-pCNm6I",
        "outputId": "c90c48ba-19fc-48f6-ded0-6f3178298c3e"
      },
      "source": [
        "X_test"
      ],
      "execution_count": 12,
      "outputs": [
        {
          "output_type": "execute_result",
          "data": {
            "text/html": [
              "<div>\n",
              "<style scoped>\n",
              "    .dataframe tbody tr th:only-of-type {\n",
              "        vertical-align: middle;\n",
              "    }\n",
              "\n",
              "    .dataframe tbody tr th {\n",
              "        vertical-align: top;\n",
              "    }\n",
              "\n",
              "    .dataframe thead th {\n",
              "        text-align: right;\n",
              "    }\n",
              "</style>\n",
              "<table border=\"1\" class=\"dataframe\">\n",
              "  <thead>\n",
              "    <tr style=\"text-align: right;\">\n",
              "      <th></th>\n",
              "      <th>Pregnancies</th>\n",
              "      <th>Glucose</th>\n",
              "      <th>BloodPressure</th>\n",
              "      <th>SkinThickness</th>\n",
              "      <th>Insulin</th>\n",
              "      <th>BMI</th>\n",
              "      <th>DiabetesPedigreeFunction</th>\n",
              "      <th>Age</th>\n",
              "    </tr>\n",
              "  </thead>\n",
              "  <tbody>\n",
              "    <tr>\n",
              "      <th>749</th>\n",
              "      <td>6</td>\n",
              "      <td>162</td>\n",
              "      <td>62</td>\n",
              "      <td>0</td>\n",
              "      <td>0</td>\n",
              "      <td>24.3</td>\n",
              "      <td>0.178</td>\n",
              "      <td>50</td>\n",
              "    </tr>\n",
              "    <tr>\n",
              "      <th>452</th>\n",
              "      <td>0</td>\n",
              "      <td>91</td>\n",
              "      <td>68</td>\n",
              "      <td>32</td>\n",
              "      <td>210</td>\n",
              "      <td>39.9</td>\n",
              "      <td>0.381</td>\n",
              "      <td>25</td>\n",
              "    </tr>\n",
              "    <tr>\n",
              "      <th>608</th>\n",
              "      <td>0</td>\n",
              "      <td>152</td>\n",
              "      <td>82</td>\n",
              "      <td>39</td>\n",
              "      <td>272</td>\n",
              "      <td>41.5</td>\n",
              "      <td>0.270</td>\n",
              "      <td>27</td>\n",
              "    </tr>\n",
              "    <tr>\n",
              "      <th>89</th>\n",
              "      <td>1</td>\n",
              "      <td>107</td>\n",
              "      <td>68</td>\n",
              "      <td>19</td>\n",
              "      <td>0</td>\n",
              "      <td>26.5</td>\n",
              "      <td>0.165</td>\n",
              "      <td>24</td>\n",
              "    </tr>\n",
              "    <tr>\n",
              "      <th>371</th>\n",
              "      <td>0</td>\n",
              "      <td>118</td>\n",
              "      <td>64</td>\n",
              "      <td>23</td>\n",
              "      <td>89</td>\n",
              "      <td>0.0</td>\n",
              "      <td>1.731</td>\n",
              "      <td>21</td>\n",
              "    </tr>\n",
              "    <tr>\n",
              "      <th>...</th>\n",
              "      <td>...</td>\n",
              "      <td>...</td>\n",
              "      <td>...</td>\n",
              "      <td>...</td>\n",
              "      <td>...</td>\n",
              "      <td>...</td>\n",
              "      <td>...</td>\n",
              "      <td>...</td>\n",
              "    </tr>\n",
              "    <tr>\n",
              "      <th>681</th>\n",
              "      <td>0</td>\n",
              "      <td>162</td>\n",
              "      <td>76</td>\n",
              "      <td>36</td>\n",
              "      <td>0</td>\n",
              "      <td>49.6</td>\n",
              "      <td>0.364</td>\n",
              "      <td>26</td>\n",
              "    </tr>\n",
              "    <tr>\n",
              "      <th>631</th>\n",
              "      <td>0</td>\n",
              "      <td>102</td>\n",
              "      <td>78</td>\n",
              "      <td>40</td>\n",
              "      <td>90</td>\n",
              "      <td>34.5</td>\n",
              "      <td>0.238</td>\n",
              "      <td>24</td>\n",
              "    </tr>\n",
              "    <tr>\n",
              "      <th>337</th>\n",
              "      <td>5</td>\n",
              "      <td>115</td>\n",
              "      <td>76</td>\n",
              "      <td>0</td>\n",
              "      <td>0</td>\n",
              "      <td>31.2</td>\n",
              "      <td>0.343</td>\n",
              "      <td>44</td>\n",
              "    </tr>\n",
              "    <tr>\n",
              "      <th>429</th>\n",
              "      <td>1</td>\n",
              "      <td>95</td>\n",
              "      <td>82</td>\n",
              "      <td>25</td>\n",
              "      <td>180</td>\n",
              "      <td>35.0</td>\n",
              "      <td>0.233</td>\n",
              "      <td>43</td>\n",
              "    </tr>\n",
              "    <tr>\n",
              "      <th>763</th>\n",
              "      <td>10</td>\n",
              "      <td>101</td>\n",
              "      <td>76</td>\n",
              "      <td>48</td>\n",
              "      <td>180</td>\n",
              "      <td>32.9</td>\n",
              "      <td>0.171</td>\n",
              "      <td>63</td>\n",
              "    </tr>\n",
              "  </tbody>\n",
              "</table>\n",
              "<p>231 rows × 8 columns</p>\n",
              "</div>"
            ],
            "text/plain": [
              "     Pregnancies  Glucose  BloodPressure  ...   BMI  DiabetesPedigreeFunction  Age\n",
              "749            6      162             62  ...  24.3                     0.178   50\n",
              "452            0       91             68  ...  39.9                     0.381   25\n",
              "608            0      152             82  ...  41.5                     0.270   27\n",
              "89             1      107             68  ...  26.5                     0.165   24\n",
              "371            0      118             64  ...   0.0                     1.731   21\n",
              "..           ...      ...            ...  ...   ...                       ...  ...\n",
              "681            0      162             76  ...  49.6                     0.364   26\n",
              "631            0      102             78  ...  34.5                     0.238   24\n",
              "337            5      115             76  ...  31.2                     0.343   44\n",
              "429            1       95             82  ...  35.0                     0.233   43\n",
              "763           10      101             76  ...  32.9                     0.171   63\n",
              "\n",
              "[231 rows x 8 columns]"
            ]
          },
          "metadata": {
            "tags": []
          },
          "execution_count": 12
        }
      ]
    },
    {
      "cell_type": "code",
      "metadata": {
        "colab": {
          "base_uri": "https://localhost:8080/"
        },
        "id": "kO2tSQKBKkp0",
        "outputId": "1934a691-44c5-4d65-c3e7-8a22406323d9"
      },
      "source": [
        "# Balance data using oversampling, only do this on training set\n",
        "# SMOTE is used because of imbalance classification in this case\n",
        "from imblearn.over_sampling import SMOTE\n",
        "X_train,y_train = SMOTE().fit_resample(X_train,y_train)"
      ],
      "execution_count": 13,
      "outputs": [
        {
          "output_type": "stream",
          "text": [
            "/usr/local/lib/python3.7/dist-packages/sklearn/utils/deprecation.py:87: FutureWarning: Function safe_indexing is deprecated; safe_indexing is deprecated in version 0.22 and will be removed in version 0.24.\n",
            "  warnings.warn(msg, category=FutureWarning)\n"
          ],
          "name": "stderr"
        }
      ]
    },
    {
      "cell_type": "code",
      "metadata": {
        "colab": {
          "base_uri": "https://localhost:8080/"
        },
        "id": "vZsfCqRgLdo7",
        "outputId": "9ddd5839-1949-47cf-da9e-24dbc67716e2"
      },
      "source": [
        "cols = df.columns\n",
        "cols[:-1]"
      ],
      "execution_count": 14,
      "outputs": [
        {
          "output_type": "execute_result",
          "data": {
            "text/plain": [
              "Index(['Pregnancies', 'Glucose', 'BloodPressure', 'SkinThickness', 'Insulin',\n",
              "       'BMI', 'DiabetesPedigreeFunction', 'Age'],\n",
              "      dtype='object')"
            ]
          },
          "metadata": {
            "tags": []
          },
          "execution_count": 14
        }
      ]
    },
    {
      "cell_type": "code",
      "metadata": {
        "colab": {
          "base_uri": "https://localhost:8080/",
          "height": 402
        },
        "id": "eC5hxIlaKmiB",
        "outputId": "90041e4b-a8c6-49ab-8c3c-792aa9009e11"
      },
      "source": [
        "# Scale train/test, scale X_train and then scale X_test using mean and std of X_train\n",
        "from sklearn.preprocessing import StandardScaler\n",
        "scaler = StandardScaler()\n",
        "X_train_scaled = pd.DataFrame(scaler.fit_transform(X_train),columns=df.columns[:-1])\n",
        "X_test_scaled = pd.DataFrame(scaler.transform(X_test),columns=X_test.columns)\n",
        "X_train_scaled"
      ],
      "execution_count": 15,
      "outputs": [
        {
          "output_type": "execute_result",
          "data": {
            "text/html": [
              "<div>\n",
              "<style scoped>\n",
              "    .dataframe tbody tr th:only-of-type {\n",
              "        vertical-align: middle;\n",
              "    }\n",
              "\n",
              "    .dataframe tbody tr th {\n",
              "        vertical-align: top;\n",
              "    }\n",
              "\n",
              "    .dataframe thead th {\n",
              "        text-align: right;\n",
              "    }\n",
              "</style>\n",
              "<table border=\"1\" class=\"dataframe\">\n",
              "  <thead>\n",
              "    <tr style=\"text-align: right;\">\n",
              "      <th></th>\n",
              "      <th>Pregnancies</th>\n",
              "      <th>Glucose</th>\n",
              "      <th>BloodPressure</th>\n",
              "      <th>SkinThickness</th>\n",
              "      <th>Insulin</th>\n",
              "      <th>BMI</th>\n",
              "      <th>DiabetesPedigreeFunction</th>\n",
              "      <th>Age</th>\n",
              "    </tr>\n",
              "  </thead>\n",
              "  <tbody>\n",
              "    <tr>\n",
              "      <th>0</th>\n",
              "      <td>-0.372396</td>\n",
              "      <td>-0.082157</td>\n",
              "      <td>0.469859</td>\n",
              "      <td>-1.269891</td>\n",
              "      <td>-0.678052</td>\n",
              "      <td>-1.259068</td>\n",
              "      <td>-0.733189</td>\n",
              "      <td>0.479531</td>\n",
              "    </tr>\n",
              "    <tr>\n",
              "      <th>1</th>\n",
              "      <td>0.209275</td>\n",
              "      <td>1.294527</td>\n",
              "      <td>0.179994</td>\n",
              "      <td>-0.099538</td>\n",
              "      <td>0.800921</td>\n",
              "      <td>-0.885443</td>\n",
              "      <td>0.324139</td>\n",
              "      <td>1.417747</td>\n",
              "    </tr>\n",
              "    <tr>\n",
              "      <th>2</th>\n",
              "      <td>0.500111</td>\n",
              "      <td>-0.520193</td>\n",
              "      <td>-1.172710</td>\n",
              "      <td>-0.037941</td>\n",
              "      <td>0.420613</td>\n",
              "      <td>-1.125630</td>\n",
              "      <td>1.041725</td>\n",
              "      <td>0.053069</td>\n",
              "    </tr>\n",
              "    <tr>\n",
              "      <th>3</th>\n",
              "      <td>-1.244903</td>\n",
              "      <td>1.732563</td>\n",
              "      <td>-0.109872</td>\n",
              "      <td>1.132412</td>\n",
              "      <td>-0.678052</td>\n",
              "      <td>1.276244</td>\n",
              "      <td>4.470896</td>\n",
              "      <td>-0.799855</td>\n",
              "    </tr>\n",
              "    <tr>\n",
              "      <th>4</th>\n",
              "      <td>-0.372396</td>\n",
              "      <td>-0.676634</td>\n",
              "      <td>0.179994</td>\n",
              "      <td>0.578034</td>\n",
              "      <td>0.606541</td>\n",
              "      <td>-0.645255</td>\n",
              "      <td>0.778187</td>\n",
              "      <td>-0.629270</td>\n",
              "    </tr>\n",
              "    <tr>\n",
              "      <th>...</th>\n",
              "      <td>...</td>\n",
              "      <td>...</td>\n",
              "      <td>...</td>\n",
              "      <td>...</td>\n",
              "      <td>...</td>\n",
              "      <td>...</td>\n",
              "      <td>...</td>\n",
              "      <td>...</td>\n",
              "    </tr>\n",
              "    <tr>\n",
              "      <th>703</th>\n",
              "      <td>1.954289</td>\n",
              "      <td>0.634603</td>\n",
              "      <td>1.104548</td>\n",
              "      <td>0.713850</td>\n",
              "      <td>0.561210</td>\n",
              "      <td>0.485657</td>\n",
              "      <td>-0.178283</td>\n",
              "      <td>1.417747</td>\n",
              "    </tr>\n",
              "    <tr>\n",
              "      <th>704</th>\n",
              "      <td>-0.869869</td>\n",
              "      <td>1.211985</td>\n",
              "      <td>0.152021</td>\n",
              "      <td>-1.269891</td>\n",
              "      <td>-0.678052</td>\n",
              "      <td>0.817020</td>\n",
              "      <td>2.090566</td>\n",
              "      <td>-0.068131</td>\n",
              "    </tr>\n",
              "    <tr>\n",
              "      <th>705</th>\n",
              "      <td>-0.150118</td>\n",
              "      <td>-0.092079</td>\n",
              "      <td>-0.882845</td>\n",
              "      <td>0.581029</td>\n",
              "      <td>0.775361</td>\n",
              "      <td>-0.342045</td>\n",
              "      <td>2.139746</td>\n",
              "      <td>-0.308207</td>\n",
              "    </tr>\n",
              "    <tr>\n",
              "      <th>706</th>\n",
              "      <td>0.145169</td>\n",
              "      <td>-0.328035</td>\n",
              "      <td>-0.328223</td>\n",
              "      <td>-0.338640</td>\n",
              "      <td>-0.678052</td>\n",
              "      <td>-0.475997</td>\n",
              "      <td>-0.402427</td>\n",
              "      <td>-0.395557</td>\n",
              "    </tr>\n",
              "    <tr>\n",
              "      <th>707</th>\n",
              "      <td>-1.241057</td>\n",
              "      <td>-0.364106</td>\n",
              "      <td>0.373054</td>\n",
              "      <td>-1.269891</td>\n",
              "      <td>-0.678052</td>\n",
              "      <td>0.114405</td>\n",
              "      <td>-0.657129</td>\n",
              "      <td>-0.969151</td>\n",
              "    </tr>\n",
              "  </tbody>\n",
              "</table>\n",
              "<p>708 rows × 8 columns</p>\n",
              "</div>"
            ],
            "text/plain": [
              "     Pregnancies   Glucose  ...  DiabetesPedigreeFunction       Age\n",
              "0      -0.372396 -0.082157  ...                 -0.733189  0.479531\n",
              "1       0.209275  1.294527  ...                  0.324139  1.417747\n",
              "2       0.500111 -0.520193  ...                  1.041725  0.053069\n",
              "3      -1.244903  1.732563  ...                  4.470896 -0.799855\n",
              "4      -0.372396 -0.676634  ...                  0.778187 -0.629270\n",
              "..           ...       ...  ...                       ...       ...\n",
              "703     1.954289  0.634603  ...                 -0.178283  1.417747\n",
              "704    -0.869869  1.211985  ...                  2.090566 -0.068131\n",
              "705    -0.150118 -0.092079  ...                  2.139746 -0.308207\n",
              "706     0.145169 -0.328035  ...                 -0.402427 -0.395557\n",
              "707    -1.241057 -0.364106  ...                 -0.657129 -0.969151\n",
              "\n",
              "[708 rows x 8 columns]"
            ]
          },
          "metadata": {
            "tags": []
          },
          "execution_count": 15
        }
      ]
    },
    {
      "cell_type": "code",
      "metadata": {
        "colab": {
          "base_uri": "https://localhost:8080/",
          "height": 422
        },
        "id": "_jhT88VMK1Xl",
        "outputId": "d5e1476d-8ea0-4b17-c0a6-81d4d9b2454f"
      },
      "source": [
        "X_test"
      ],
      "execution_count": null,
      "outputs": [
        {
          "output_type": "execute_result",
          "data": {
            "text/html": [
              "<div>\n",
              "<style scoped>\n",
              "    .dataframe tbody tr th:only-of-type {\n",
              "        vertical-align: middle;\n",
              "    }\n",
              "\n",
              "    .dataframe tbody tr th {\n",
              "        vertical-align: top;\n",
              "    }\n",
              "\n",
              "    .dataframe thead th {\n",
              "        text-align: right;\n",
              "    }\n",
              "</style>\n",
              "<table border=\"1\" class=\"dataframe\">\n",
              "  <thead>\n",
              "    <tr style=\"text-align: right;\">\n",
              "      <th></th>\n",
              "      <th>Pregnancies</th>\n",
              "      <th>Glucose</th>\n",
              "      <th>BloodPressure</th>\n",
              "      <th>SkinThickness</th>\n",
              "      <th>Insulin</th>\n",
              "      <th>BMI</th>\n",
              "      <th>DiabetesPedigreeFunction</th>\n",
              "      <th>Age</th>\n",
              "    </tr>\n",
              "  </thead>\n",
              "  <tbody>\n",
              "    <tr>\n",
              "      <th>77</th>\n",
              "      <td>5</td>\n",
              "      <td>95</td>\n",
              "      <td>72</td>\n",
              "      <td>33</td>\n",
              "      <td>0</td>\n",
              "      <td>37.7</td>\n",
              "      <td>0.370</td>\n",
              "      <td>27</td>\n",
              "    </tr>\n",
              "    <tr>\n",
              "      <th>631</th>\n",
              "      <td>0</td>\n",
              "      <td>102</td>\n",
              "      <td>78</td>\n",
              "      <td>40</td>\n",
              "      <td>90</td>\n",
              "      <td>34.5</td>\n",
              "      <td>0.238</td>\n",
              "      <td>24</td>\n",
              "    </tr>\n",
              "    <tr>\n",
              "      <th>41</th>\n",
              "      <td>7</td>\n",
              "      <td>133</td>\n",
              "      <td>84</td>\n",
              "      <td>0</td>\n",
              "      <td>0</td>\n",
              "      <td>40.2</td>\n",
              "      <td>0.696</td>\n",
              "      <td>37</td>\n",
              "    </tr>\n",
              "    <tr>\n",
              "      <th>597</th>\n",
              "      <td>1</td>\n",
              "      <td>89</td>\n",
              "      <td>24</td>\n",
              "      <td>19</td>\n",
              "      <td>25</td>\n",
              "      <td>27.8</td>\n",
              "      <td>0.559</td>\n",
              "      <td>21</td>\n",
              "    </tr>\n",
              "    <tr>\n",
              "      <th>694</th>\n",
              "      <td>2</td>\n",
              "      <td>90</td>\n",
              "      <td>60</td>\n",
              "      <td>0</td>\n",
              "      <td>0</td>\n",
              "      <td>23.5</td>\n",
              "      <td>0.191</td>\n",
              "      <td>25</td>\n",
              "    </tr>\n",
              "    <tr>\n",
              "      <th>...</th>\n",
              "      <td>...</td>\n",
              "      <td>...</td>\n",
              "      <td>...</td>\n",
              "      <td>...</td>\n",
              "      <td>...</td>\n",
              "      <td>...</td>\n",
              "      <td>...</td>\n",
              "      <td>...</td>\n",
              "    </tr>\n",
              "    <tr>\n",
              "      <th>353</th>\n",
              "      <td>1</td>\n",
              "      <td>90</td>\n",
              "      <td>62</td>\n",
              "      <td>12</td>\n",
              "      <td>43</td>\n",
              "      <td>27.2</td>\n",
              "      <td>0.580</td>\n",
              "      <td>24</td>\n",
              "    </tr>\n",
              "    <tr>\n",
              "      <th>731</th>\n",
              "      <td>8</td>\n",
              "      <td>120</td>\n",
              "      <td>86</td>\n",
              "      <td>0</td>\n",
              "      <td>0</td>\n",
              "      <td>28.4</td>\n",
              "      <td>0.259</td>\n",
              "      <td>22</td>\n",
              "    </tr>\n",
              "    <tr>\n",
              "      <th>704</th>\n",
              "      <td>4</td>\n",
              "      <td>110</td>\n",
              "      <td>76</td>\n",
              "      <td>20</td>\n",
              "      <td>100</td>\n",
              "      <td>28.4</td>\n",
              "      <td>0.118</td>\n",
              "      <td>27</td>\n",
              "    </tr>\n",
              "    <tr>\n",
              "      <th>435</th>\n",
              "      <td>0</td>\n",
              "      <td>141</td>\n",
              "      <td>0</td>\n",
              "      <td>0</td>\n",
              "      <td>0</td>\n",
              "      <td>42.4</td>\n",
              "      <td>0.205</td>\n",
              "      <td>29</td>\n",
              "    </tr>\n",
              "    <tr>\n",
              "      <th>418</th>\n",
              "      <td>1</td>\n",
              "      <td>83</td>\n",
              "      <td>68</td>\n",
              "      <td>0</td>\n",
              "      <td>0</td>\n",
              "      <td>18.2</td>\n",
              "      <td>0.624</td>\n",
              "      <td>27</td>\n",
              "    </tr>\n",
              "  </tbody>\n",
              "</table>\n",
              "<p>231 rows × 8 columns</p>\n",
              "</div>"
            ],
            "text/plain": [
              "     Pregnancies  Glucose  BloodPressure  ...   BMI  DiabetesPedigreeFunction  Age\n",
              "77             5       95             72  ...  37.7                     0.370   27\n",
              "631            0      102             78  ...  34.5                     0.238   24\n",
              "41             7      133             84  ...  40.2                     0.696   37\n",
              "597            1       89             24  ...  27.8                     0.559   21\n",
              "694            2       90             60  ...  23.5                     0.191   25\n",
              "..           ...      ...            ...  ...   ...                       ...  ...\n",
              "353            1       90             62  ...  27.2                     0.580   24\n",
              "731            8      120             86  ...  28.4                     0.259   22\n",
              "704            4      110             76  ...  28.4                     0.118   27\n",
              "435            0      141              0  ...  42.4                     0.205   29\n",
              "418            1       83             68  ...  18.2                     0.624   27\n",
              "\n",
              "[231 rows x 8 columns]"
            ]
          },
          "metadata": {
            "tags": []
          },
          "execution_count": 27
        }
      ]
    },
    {
      "cell_type": "code",
      "metadata": {
        "id": "1e5_84OpMd7T"
      },
      "source": [
        "######################\n",
        "##   Random Forest\n",
        "######################"
      ],
      "execution_count": null,
      "outputs": []
    },
    {
      "cell_type": "code",
      "metadata": {
        "id": "U7f7ymGZN91p",
        "colab": {
          "base_uri": "https://localhost:8080/",
          "height": 382
        },
        "outputId": "5cea45a1-c6e5-4a21-ecf1-cf8c25d55e21"
      },
      "source": [
        "# Random forest\n",
        "import sklearn\n",
        "from sklearn.ensemble import RandomForestClassifier\n",
        "rf = RandomForestClassifier(random_state=0).fit(X_train_scaled,y_train) \n",
        "pred = rf.predict(X_test_scaled)\n",
        "# Confusion matrix \n",
        "# cm = sklearn.metrics.ConfusionMatrixDisplay(confusion_matrix=metrics.confusion_matrix(y_test,pred,labels=rf.classes_),\n",
        "                              # display_labels=rf.classes_)\n",
        "cm = sklearn.metrics.confusion_matrix(y_test, pred)\n",
        "\n",
        "# Calc metrics\n",
        "train_a = rf.score(X_train_scaled,y_train)\n",
        "test_a = rf.score(X_test_scaled,y_test)\n",
        "prec = sklearn.metrics.precision_score(y_test,pred)\n",
        "rec = sklearn.metrics.recall_score(y_test,pred)\n",
        "f1 = sklearn.metrics.f1_score(y_test,pred)\n",
        "auc = sklearn.metrics.roc_auc_score(y_test,pred)\n",
        "\n",
        "# Print metrics \n",
        "print('Training accuracy: ', train_a)\n",
        "print('Testing accuracy: ', test_a)\n",
        "print('Precision: ', prec)\n",
        "print('Recall: ', rec)\n",
        "print('F1-Score: ', f1)\n",
        "print('ROC AUC Score: ', auc)\n",
        "\n",
        "# Plot confusion matrix\n",
        "sns.heatmap(cm, annot=True)"
      ],
      "execution_count": 25,
      "outputs": [
        {
          "output_type": "stream",
          "text": [
            "Training accuracy:  1.0\n",
            "Testing accuracy:  0.7748917748917749\n",
            "Precision:  0.6571428571428571\n",
            "Recall:  0.8117647058823529\n",
            "F1-Score:  0.7263157894736841\n",
            "ROC AUC Score:  0.7825946817082998\n"
          ],
          "name": "stdout"
        },
        {
          "output_type": "execute_result",
          "data": {
            "text/plain": [
              "<matplotlib.axes._subplots.AxesSubplot at 0x7f67830b01d0>"
            ]
          },
          "metadata": {
            "tags": []
          },
          "execution_count": 25
        },
        {
          "output_type": "display_data",
          "data": {
            "image/png": "[encoded data removed]",
            "text/plain": [
              "<Figure size 432x288 with 2 Axes>"
            ]
          },
          "metadata": {
            "tags": [],
            "needs_background": "light"
          }
        }
      ]
    },
    {
      "cell_type": "code",
      "metadata": {
        "colab": {
          "base_uri": "https://localhost:8080/"
        },
        "id": "-E441YNDB5lC",
        "outputId": "a9f0c497-b0dd-4939-e78c-9b326a37e641"
      },
      "source": [
        "from sklearn.externals import joblib\n",
        "joblib.dump(rf, 'diabetes_rf.pkl')\n",
        "joblib.dump(scaler, 'diabetes_scaler.pkl')"
      ],
      "execution_count": null,
      "outputs": [
        {
          "output_type": "execute_result",
          "data": {
            "text/plain": [
              "['diabetes_scaler.pkl']"
            ]
          },
          "metadata": {
            "tags": []
          },
          "execution_count": 30
        }
      ]
    },
    {
      "cell_type": "code",
      "metadata": {
        "colab": {
          "base_uri": "https://localhost:8080/",
          "height": 296
        },
        "id": "CwjfMJ65OCxf",
        "outputId": "96417e67-89ca-473a-d586-4c14419f2840"
      },
      "source": [
        "# Plot ROC Curve\n",
        "metrics.plot_roc_curve(rf,X_test_scaled,y_test)"
      ],
      "execution_count": null,
      "outputs": [
        {
          "output_type": "execute_result",
          "data": {
            "text/plain": [
              "<sklearn.metrics._plot.roc_curve.RocCurveDisplay at 0x7ff1bc3e3fd0>"
            ]
          },
          "metadata": {
            "tags": []
          },
          "execution_count": 31
        },
        {
          "output_type": "display_data",
          "data": {
            "image/png": "[encoded data removed]",
            "text/plain": [
              "<Figure size 432x288 with 1 Axes>"
            ]
          },
          "metadata": {
            "tags": [],
            "needs_background": "light"
          }
        }
      ]
    },
    {
      "cell_type": "code",
      "metadata": {
        "id": "rACQ-4boPn-2"
      },
      "source": [
        "######### END ###########"
      ],
      "execution_count": 26,
      "outputs": []
    },
    {
      "cell_type": "code",
      "metadata": {
        "colab": {
          "base_uri": "https://localhost:8080/",
          "height": 422
        },
        "id": "QbAXneWTOEQa",
        "outputId": "c720d7af-fb61-4a7c-ff43-511d790c738e"
      },
      "source": [
        "X_test_scaled"
      ],
      "execution_count": null,
      "outputs": [
        {
          "output_type": "execute_result",
          "data": {
            "text/html": [
              "<div>\n",
              "<style scoped>\n",
              "    .dataframe tbody tr th:only-of-type {\n",
              "        vertical-align: middle;\n",
              "    }\n",
              "\n",
              "    .dataframe tbody tr th {\n",
              "        vertical-align: top;\n",
              "    }\n",
              "\n",
              "    .dataframe thead th {\n",
              "        text-align: right;\n",
              "    }\n",
              "</style>\n",
              "<table border=\"1\" class=\"dataframe\">\n",
              "  <thead>\n",
              "    <tr style=\"text-align: right;\">\n",
              "      <th></th>\n",
              "      <th>Pregnancies</th>\n",
              "      <th>Glucose</th>\n",
              "      <th>BloodPressure</th>\n",
              "      <th>SkinThickness</th>\n",
              "      <th>Insulin</th>\n",
              "      <th>BMI</th>\n",
              "      <th>DiabetesPedigreeFunction</th>\n",
              "      <th>Age</th>\n",
              "    </tr>\n",
              "  </thead>\n",
              "  <tbody>\n",
              "    <tr>\n",
              "      <th>0</th>\n",
              "      <td>0.574282</td>\n",
              "      <td>-0.658146</td>\n",
              "      <td>0.128013</td>\n",
              "      <td>0.741049</td>\n",
              "      <td>1.034089</td>\n",
              "      <td>0.720540</td>\n",
              "      <td>-0.524802</td>\n",
              "      <td>1.861513</td>\n",
              "    </tr>\n",
              "    <tr>\n",
              "      <th>1</th>\n",
              "      <td>1.175060</td>\n",
              "      <td>-1.553554</td>\n",
              "      <td>0.025848</td>\n",
              "      <td>1.242406</td>\n",
              "      <td>-0.260290</td>\n",
              "      <td>0.399128</td>\n",
              "      <td>0.640786</td>\n",
              "      <td>0.454169</td>\n",
              "    </tr>\n",
              "    <tr>\n",
              "      <th>2</th>\n",
              "      <td>0.273893</td>\n",
              "      <td>-0.658146</td>\n",
              "      <td>1.966983</td>\n",
              "      <td>1.054397</td>\n",
              "      <td>-0.710110</td>\n",
              "      <td>0.921422</td>\n",
              "      <td>-0.582929</td>\n",
              "      <td>2.741104</td>\n",
              "    </tr>\n",
              "    <tr>\n",
              "      <th>3</th>\n",
              "      <td>-1.228053</td>\n",
              "      <td>1.626687</td>\n",
              "      <td>-0.484977</td>\n",
              "      <td>0.553040</td>\n",
              "      <td>3.677926</td>\n",
              "      <td>0.305383</td>\n",
              "      <td>1.763543</td>\n",
              "      <td>-1.129094</td>\n",
              "    </tr>\n",
              "    <tr>\n",
              "      <th>4</th>\n",
              "      <td>-0.927664</td>\n",
              "      <td>-1.584430</td>\n",
              "      <td>-0.995802</td>\n",
              "      <td>-0.637684</td>\n",
              "      <td>-0.710110</td>\n",
              "      <td>-1.248108</td>\n",
              "      <td>-0.757308</td>\n",
              "      <td>-1.129094</td>\n",
              "    </tr>\n",
              "    <tr>\n",
              "      <th>...</th>\n",
              "      <td>...</td>\n",
              "      <td>...</td>\n",
              "      <td>...</td>\n",
              "      <td>...</td>\n",
              "      <td>...</td>\n",
              "      <td>...</td>\n",
              "      <td>...</td>\n",
              "      <td>...</td>\n",
              "    </tr>\n",
              "    <tr>\n",
              "      <th>226</th>\n",
              "      <td>-0.026496</td>\n",
              "      <td>-1.059536</td>\n",
              "      <td>0.945333</td>\n",
              "      <td>1.681094</td>\n",
              "      <td>-0.214390</td>\n",
              "      <td>0.720540</td>\n",
              "      <td>-0.408549</td>\n",
              "      <td>-0.425422</td>\n",
              "    </tr>\n",
              "    <tr>\n",
              "      <th>227</th>\n",
              "      <td>-0.927664</td>\n",
              "      <td>-0.380261</td>\n",
              "      <td>0.128013</td>\n",
              "      <td>0.615710</td>\n",
              "      <td>0.905569</td>\n",
              "      <td>0.278598</td>\n",
              "      <td>0.099292</td>\n",
              "      <td>-0.777258</td>\n",
              "    </tr>\n",
              "    <tr>\n",
              "      <th>228</th>\n",
              "      <td>0.874671</td>\n",
              "      <td>0.021129</td>\n",
              "      <td>0.843168</td>\n",
              "      <td>-1.264380</td>\n",
              "      <td>-0.710110</td>\n",
              "      <td>0.707147</td>\n",
              "      <td>-0.585988</td>\n",
              "      <td>1.509677</td>\n",
              "    </tr>\n",
              "    <tr>\n",
              "      <th>229</th>\n",
              "      <td>-0.326886</td>\n",
              "      <td>-1.090412</td>\n",
              "      <td>0.230178</td>\n",
              "      <td>-0.261666</td>\n",
              "      <td>0.070190</td>\n",
              "      <td>-0.257088</td>\n",
              "      <td>0.169656</td>\n",
              "      <td>0.366210</td>\n",
              "    </tr>\n",
              "    <tr>\n",
              "      <th>230</th>\n",
              "      <td>-0.927664</td>\n",
              "      <td>-0.843403</td>\n",
              "      <td>-0.076317</td>\n",
              "      <td>0.051683</td>\n",
              "      <td>-0.710110</td>\n",
              "      <td>-0.685637</td>\n",
              "      <td>1.833907</td>\n",
              "      <td>-1.041135</td>\n",
              "    </tr>\n",
              "  </tbody>\n",
              "</table>\n",
              "<p>231 rows × 8 columns</p>\n",
              "</div>"
            ],
            "text/plain": [
              "     Pregnancies   Glucose  ...  DiabetesPedigreeFunction       Age\n",
              "0       0.574282 -0.658146  ...                 -0.524802  1.861513\n",
              "1       1.175060 -1.553554  ...                  0.640786  0.454169\n",
              "2       0.273893 -0.658146  ...                 -0.582929  2.741104\n",
              "3      -1.228053  1.626687  ...                  1.763543 -1.129094\n",
              "4      -0.927664 -1.584430  ...                 -0.757308 -1.129094\n",
              "..           ...       ...  ...                       ...       ...\n",
              "226    -0.026496 -1.059536  ...                 -0.408549 -0.425422\n",
              "227    -0.927664 -0.380261  ...                  0.099292 -0.777258\n",
              "228     0.874671  0.021129  ...                 -0.585988  1.509677\n",
              "229    -0.326886 -1.090412  ...                  0.169656  0.366210\n",
              "230    -0.927664 -0.843403  ...                  1.833907 -1.041135\n",
              "\n",
              "[231 rows x 8 columns]"
            ]
          },
          "metadata": {
            "tags": []
          },
          "execution_count": 33
        }
      ]
    },
    {
      "cell_type": "code",
      "metadata": {
        "colab": {
          "base_uri": "https://localhost:8080/"
        },
        "id": "h6nKC_5zOdN5",
        "outputId": "ea82d433-d182-4bf9-af30-aba147ccb823"
      },
      "source": [
        "cols = X_test_scaled.columns\n",
        "cols.shape"
      ],
      "execution_count": null,
      "outputs": [
        {
          "output_type": "execute_result",
          "data": {
            "text/plain": [
              "(8,)"
            ]
          },
          "metadata": {
            "tags": []
          },
          "execution_count": 39
        }
      ]
    },
    {
      "cell_type": "code",
      "metadata": {
        "colab": {
          "base_uri": "https://localhost:8080/"
        },
        "id": "e_GxHPUNO_6h",
        "outputId": "1e5e225d-b9de-4f6a-9303-28310e939ee9"
      },
      "source": [
        "data = np.array([[6, 148, 72, 35, 0, 33.6, 0.627, 50]])\n",
        "data.shape\n"
      ],
      "execution_count": null,
      "outputs": [
        {
          "output_type": "execute_result",
          "data": {
            "text/plain": [
              "(1, 8)"
            ]
          },
          "metadata": {
            "tags": []
          },
          "execution_count": 41
        }
      ]
    },
    {
      "cell_type": "code",
      "metadata": {
        "colab": {
          "base_uri": "https://localhost:8080/",
          "height": 97
        },
        "id": "ROVkXqVxPN8G",
        "outputId": "be4f9a30-aee5-40f3-b70c-1c501ecc8851"
      },
      "source": [
        "new_data = pd.DataFrame(data, columns=cols)\n",
        "new_data"
      ],
      "execution_count": null,
      "outputs": [
        {
          "output_type": "execute_result",
          "data": {
            "text/html": [
              "<div>\n",
              "<style scoped>\n",
              "    .dataframe tbody tr th:only-of-type {\n",
              "        vertical-align: middle;\n",
              "    }\n",
              "\n",
              "    .dataframe tbody tr th {\n",
              "        vertical-align: top;\n",
              "    }\n",
              "\n",
              "    .dataframe thead th {\n",
              "        text-align: right;\n",
              "    }\n",
              "</style>\n",
              "<table border=\"1\" class=\"dataframe\">\n",
              "  <thead>\n",
              "    <tr style=\"text-align: right;\">\n",
              "      <th></th>\n",
              "      <th>Pregnancies</th>\n",
              "      <th>Glucose</th>\n",
              "      <th>BloodPressure</th>\n",
              "      <th>SkinThickness</th>\n",
              "      <th>Insulin</th>\n",
              "      <th>BMI</th>\n",
              "      <th>DiabetesPedigreeFunction</th>\n",
              "      <th>Age</th>\n",
              "    </tr>\n",
              "  </thead>\n",
              "  <tbody>\n",
              "    <tr>\n",
              "      <th>0</th>\n",
              "      <td>6.0</td>\n",
              "      <td>148.0</td>\n",
              "      <td>72.0</td>\n",
              "      <td>35.0</td>\n",
              "      <td>0.0</td>\n",
              "      <td>33.6</td>\n",
              "      <td>0.627</td>\n",
              "      <td>50.0</td>\n",
              "    </tr>\n",
              "  </tbody>\n",
              "</table>\n",
              "</div>"
            ],
            "text/plain": [
              "   Pregnancies  Glucose  BloodPressure  ...   BMI  DiabetesPedigreeFunction   Age\n",
              "0          6.0    148.0           72.0  ...  33.6                     0.627  50.0\n",
              "\n",
              "[1 rows x 8 columns]"
            ]
          },
          "metadata": {
            "tags": []
          },
          "execution_count": 42
        }
      ]
    },
    {
      "cell_type": "code",
      "metadata": {
        "colab": {
          "base_uri": "https://localhost:8080/",
          "height": 97
        },
        "id": "IJWAZ9WzPpoZ",
        "outputId": "389756c3-0fa2-4303-9908-9e536f4b6505"
      },
      "source": [
        "data_scaled = pd.DataFrame(scaler.transform(new_data),columns=cols)\n",
        "data_scaled"
      ],
      "execution_count": null,
      "outputs": [
        {
          "output_type": "execute_result",
          "data": {
            "text/html": [
              "<div>\n",
              "<style scoped>\n",
              "    .dataframe tbody tr th:only-of-type {\n",
              "        vertical-align: middle;\n",
              "    }\n",
              "\n",
              "    .dataframe tbody tr th {\n",
              "        vertical-align: top;\n",
              "    }\n",
              "\n",
              "    .dataframe thead th {\n",
              "        text-align: right;\n",
              "    }\n",
              "</style>\n",
              "<table border=\"1\" class=\"dataframe\">\n",
              "  <thead>\n",
              "    <tr style=\"text-align: right;\">\n",
              "      <th></th>\n",
              "      <th>Pregnancies</th>\n",
              "      <th>Glucose</th>\n",
              "      <th>BloodPressure</th>\n",
              "      <th>SkinThickness</th>\n",
              "      <th>Insulin</th>\n",
              "      <th>BMI</th>\n",
              "      <th>DiabetesPedigreeFunction</th>\n",
              "      <th>Age</th>\n",
              "    </tr>\n",
              "  </thead>\n",
              "  <tbody>\n",
              "    <tr>\n",
              "      <th>0</th>\n",
              "      <td>0.574282</td>\n",
              "      <td>0.73128</td>\n",
              "      <td>0.128013</td>\n",
              "      <td>0.929058</td>\n",
              "      <td>-0.71011</td>\n",
              "      <td>0.171461</td>\n",
              "      <td>0.402161</td>\n",
              "      <td>1.421718</td>\n",
              "    </tr>\n",
              "  </tbody>\n",
              "</table>\n",
              "</div>"
            ],
            "text/plain": [
              "   Pregnancies  Glucose  ...  DiabetesPedigreeFunction       Age\n",
              "0     0.574282  0.73128  ...                  0.402161  1.421718\n",
              "\n",
              "[1 rows x 8 columns]"
            ]
          },
          "metadata": {
            "tags": []
          },
          "execution_count": 44
        }
      ]
    },
    {
      "cell_type": "code",
      "metadata": {
        "colab": {
          "base_uri": "https://localhost:8080/"
        },
        "id": "hmIRDLvDP3Jj",
        "outputId": "eac6f062-be44-42b6-8c3d-609fc61e2986"
      },
      "source": [
        "rf.predict(data_scaled)"
      ],
      "execution_count": null,
      "outputs": [
        {
          "output_type": "execute_result",
          "data": {
            "text/plain": [
              "array([1])"
            ]
          },
          "metadata": {
            "tags": []
          },
          "execution_count": 45
        }
      ]
    },
    {
      "cell_type": "code",
      "metadata": {
        "id": "PidBHVK6QP-O"
      },
      "source": [
        "import pickle\n",
        "pickle.dump(rf, open(\"diabetes_rf.pkl\", \"wb\"))"
      ],
      "execution_count": null,
      "outputs": []
    },
    {
      "cell_type": "code",
      "metadata": {
        "id": "1ZtA1NC-REMT"
      },
      "source": [
        "clf = pickle.load(open(\"diabetes_rf.pkl\", \"rb\"))"
      ],
      "execution_count": null,
      "outputs": []
    },
    {
      "cell_type": "code",
      "metadata": {
        "colab": {
          "base_uri": "https://localhost:8080/"
        },
        "id": "AdmxBXoPROvw",
        "outputId": "531ce3f4-2510-40fe-ae15-f1e9a19ce274"
      },
      "source": [
        "clf.predict(data_scaled)"
      ],
      "execution_count": null,
      "outputs": [
        {
          "output_type": "execute_result",
          "data": {
            "text/plain": [
              "array([1])"
            ]
          },
          "metadata": {
            "tags": []
          },
          "execution_count": 48
        }
      ]
    },
    {
      "cell_type": "code",
      "metadata": {
        "id": "niB8-_U8RRJY"
      },
      "source": [
        "pickle.dump(scaler, open(\"diabetes_scaler.pkl\", \"wb\"))"
      ],
      "execution_count": null,
      "outputs": []
    },
    {
      "cell_type": "code",
      "metadata": {
        "colab": {
          "base_uri": "https://localhost:8080/",
          "height": 97
        },
        "id": "sVi2uC3DUQdx",
        "outputId": "8f2c8cb5-f0d0-4967-dbb6-b48d84e024ab"
      },
      "source": [
        "data_scaled"
      ],
      "execution_count": null,
      "outputs": [
        {
          "output_type": "execute_result",
          "data": {
            "text/html": [
              "<div>\n",
              "<style scoped>\n",
              "    .dataframe tbody tr th:only-of-type {\n",
              "        vertical-align: middle;\n",
              "    }\n",
              "\n",
              "    .dataframe tbody tr th {\n",
              "        vertical-align: top;\n",
              "    }\n",
              "\n",
              "    .dataframe thead th {\n",
              "        text-align: right;\n",
              "    }\n",
              "</style>\n",
              "<table border=\"1\" class=\"dataframe\">\n",
              "  <thead>\n",
              "    <tr style=\"text-align: right;\">\n",
              "      <th></th>\n",
              "      <th>Pregnancies</th>\n",
              "      <th>Glucose</th>\n",
              "      <th>BloodPressure</th>\n",
              "      <th>SkinThickness</th>\n",
              "      <th>Insulin</th>\n",
              "      <th>BMI</th>\n",
              "      <th>DiabetesPedigreeFunction</th>\n",
              "      <th>Age</th>\n",
              "    </tr>\n",
              "  </thead>\n",
              "  <tbody>\n",
              "    <tr>\n",
              "      <th>0</th>\n",
              "      <td>0.574282</td>\n",
              "      <td>0.73128</td>\n",
              "      <td>0.128013</td>\n",
              "      <td>0.929058</td>\n",
              "      <td>-0.71011</td>\n",
              "      <td>0.171461</td>\n",
              "      <td>0.402161</td>\n",
              "      <td>1.421718</td>\n",
              "    </tr>\n",
              "  </tbody>\n",
              "</table>\n",
              "</div>"
            ],
            "text/plain": [
              "   Pregnancies  Glucose  ...  DiabetesPedigreeFunction       Age\n",
              "0     0.574282  0.73128  ...                  0.402161  1.421718\n",
              "\n",
              "[1 rows x 8 columns]"
            ]
          },
          "metadata": {
            "tags": []
          },
          "execution_count": 50
        }
      ]
    },
    {
      "cell_type": "code",
      "metadata": {
        "id": "vJkF6pxeU256"
      },
      "source": [
        ""
      ],
      "execution_count": null,
      "outputs": []
    }
  ]
}